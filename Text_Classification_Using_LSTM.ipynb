{
  "nbformat": 4,
  "nbformat_minor": 0,
  "metadata": {
    "colab": {
      "name": "Text_Classification_Using_LSTM.ipynb",
      "provenance": []
    },
    "kernelspec": {
      "name": "python3",
      "display_name": "Python 3"
    }
  },
  "cells": [
    {
      "cell_type": "markdown",
      "metadata": {
        "id": "9S4e2fvI9Fms"
      },
      "source": [
        "#Text classifier using LSTM Models\r\n",
        "This project is made to classify sentiments in IMDB movie reviews.\r\n"
      ]
    },
    {
      "cell_type": "code",
      "metadata": {
        "id": "PxKmS2HZ8_5t"
      },
      "source": [
        "from tensorflow import keras\r\n",
        "from tensorflow.keras.layers import *\r\n",
        "from tensorflow.keras.datasets import imdb\r\n",
        "from tensorflow.keras.preprocessing.sequence import pad_sequences"
      ],
      "execution_count": 1,
      "outputs": []
    },
    {
      "cell_type": "markdown",
      "metadata": {
        "id": "zZNuyVVh9zUu"
      },
      "source": [
        "**Step 1: Data Preprocessing**\r\n"
      ]
    },
    {
      "cell_type": "markdown",
      "metadata": {
        "id": "kfA7OTMP98Sw"
      },
      "source": [
        "**(a) Loading the Data**\r\n",
        "\r\n",
        "Call imdb.load_data() function for the imdb reviews dataset."
      ]
    },
    {
      "cell_type": "code",
      "metadata": {
        "colab": {
          "base_uri": "https://localhost:8080/"
        },
        "id": "YyAJwuYt9w4e",
        "outputId": "a29bf22f-ef51-42dc-8f70-10e8ea724e0b"
      },
      "source": [
        "(x_train, y_train), (x_test, y_test) = imdb.load_data(num_words = 5000)"
      ],
      "execution_count": 2,
      "outputs": [
        {
          "output_type": "stream",
          "text": [
            "Downloading data from https://storage.googleapis.com/tensorflow/tf-keras-datasets/imdb.npz\n",
            "17465344/17464789 [==============================] - 1s 0us/step\n"
          ],
          "name": "stdout"
        },
        {
          "output_type": "stream",
          "text": [
            "<string>:6: VisibleDeprecationWarning: Creating an ndarray from ragged nested sequences (which is a list-or-tuple of lists-or-tuples-or ndarrays with different lengths or shapes) is deprecated. If you meant to do this, you must specify 'dtype=object' when creating the ndarray\n",
            "/usr/local/lib/python3.6/dist-packages/tensorflow/python/keras/datasets/imdb.py:159: VisibleDeprecationWarning: Creating an ndarray from ragged nested sequences (which is a list-or-tuple of lists-or-tuples-or ndarrays with different lengths or shapes) is deprecated. If you meant to do this, you must specify 'dtype=object' when creating the ndarray\n",
            "  x_train, y_train = np.array(xs[:idx]), np.array(labels[:idx])\n",
            "/usr/local/lib/python3.6/dist-packages/tensorflow/python/keras/datasets/imdb.py:160: VisibleDeprecationWarning: Creating an ndarray from ragged nested sequences (which is a list-or-tuple of lists-or-tuples-or ndarrays with different lengths or shapes) is deprecated. If you meant to do this, you must specify 'dtype=object' when creating the ndarray\n",
            "  x_test, y_test = np.array(xs[idx:]), np.array(labels[idx:])\n"
          ],
          "name": "stderr"
        }
      ]
    },
    {
      "cell_type": "markdown",
      "metadata": {
        "id": "b89KCfBG-o2y"
      },
      "source": [
        "**(b) Converting the Raw Labels into Categorical Vectors**\r\n",
        "\r\n",
        "We convert the raw labels ie. y_train and y_test to categorical vectors \r\n",
        "\r\n",
        "\r\n",
        "*   If label = 0 then vector = { 1 , 0 }\r\n",
        "*   If label = 1 then vector = { 0 , 1 }\r\n",
        "\r\n"
      ]
    },
    {
      "cell_type": "code",
      "metadata": {
        "id": "BdAC85mJ9wva"
      },
      "source": [
        "y_train = keras.utils.to_categorical(y_train, num_classes = 2)\r\n",
        "y_test = keras.utils.to_categorical( y_test , num_classes=2 ) "
      ],
      "execution_count": 4,
      "outputs": []
    },
    {
      "cell_type": "markdown",
      "metadata": {
        "id": "8XiySDmC_QOK"
      },
      "source": [
        "**(c) Padding the Sequences to Fixed length**\r\n",
        "\r\n",
        "Padding is a form of Tokenization of words to fixed length in sequences.\r\n",
        "\r\n",
        "Here we pad the sequences of text data of a fixed length of 120 integers.\r\n",
        "\r\n",
        "So that every emotion can be tokenized later."
      ]
    },
    {
      "cell_type": "code",
      "metadata": {
        "id": "w9UcOxz-9wsF"
      },
      "source": [
        "x_train = pad_sequences( x_train , maxlen=120 , padding='pre' ) \r\n",
        "x_test = pad_sequences( x_test , maxlen=120 , padding='pre' )"
      ],
      "execution_count": 5,
      "outputs": []
    },
    {
      "cell_type": "markdown",
      "metadata": {
        "id": "tmSG5p4D_9Lo"
      },
      "source": [
        "**Step 2: Defining and Compiling the Model**\r\n",
        "\r\n",
        "Define the Hyperpararmeters for our LSTM model and compile it.\r\n",
        "\r\n",
        "1. Categorical Crossentropy Loss Function\r\n",
        "2. Adam Optimizer"
      ]
    },
    {
      "cell_type": "code",
      "metadata": {
        "id": "0KcMI8Le9wkf"
      },
      "source": [
        "dropout_rate = 0.3\r\n",
        "batch_size = 1000\r\n",
        "activation_func = keras.activations.relu\r\n",
        "\r\n",
        "SCHEMA = [\r\n",
        "\r\n",
        "    Embedding( 5000 , 10, input_length=120 ),\r\n",
        "    LSTM( 32 ) ,\r\n",
        "    Dropout(dropout_rate),\r\n",
        "    Dense( 32 , activation=activation_func ) ,\r\n",
        "    Dropout(dropout_rate),\r\n",
        "    Dense( 2 , activation=keras.activations.softmax )\r\n",
        "    \r\n",
        "]\r\n",
        "\r\n",
        "model = keras.Sequential(SCHEMA)\r\n",
        "model.compile(\r\n",
        "    optimizer=keras.optimizers.Adam() ,\r\n",
        "    loss=keras.losses.categorical_crossentropy ,\r\n",
        "    metrics=[ 'accuracy' ]\r\n",
        ")"
      ],
      "execution_count": 9,
      "outputs": []
    },
    {
      "cell_type": "markdown",
      "metadata": {
        "id": "R0nt2kiTBuWT"
      },
      "source": [
        "**Step 3: Training the Model**\r\n",
        "Now train the above model over the training dataset with a batch size of 1000 samples."
      ]
    },
    {
      "cell_type": "code",
      "metadata": {
        "colab": {
          "base_uri": "https://localhost:8080/"
        },
        "id": "mXEhX3M59wiA",
        "outputId": "f192d684-8e1b-41c6-d55a-b9de25e4e036"
      },
      "source": [
        "model.fit(x_train, y_train, batch_size = batch_size, epochs = 10)"
      ],
      "execution_count": 10,
      "outputs": [
        {
          "output_type": "stream",
          "text": [
            "Epoch 1/10\n",
            "25/25 [==============================] - 10s 322ms/step - loss: 0.6926 - accuracy: 0.5212\n",
            "Epoch 2/10\n",
            "25/25 [==============================] - 8s 318ms/step - loss: 0.6611 - accuracy: 0.6806\n",
            "Epoch 3/10\n",
            "25/25 [==============================] - 8s 326ms/step - loss: 0.4559 - accuracy: 0.8064\n",
            "Epoch 4/10\n",
            "25/25 [==============================] - 8s 321ms/step - loss: 0.3294 - accuracy: 0.8735\n",
            "Epoch 5/10\n",
            "25/25 [==============================] - 8s 327ms/step - loss: 0.2702 - accuracy: 0.8974\n",
            "Epoch 6/10\n",
            "25/25 [==============================] - 8s 325ms/step - loss: 0.2458 - accuracy: 0.9084\n",
            "Epoch 7/10\n",
            "25/25 [==============================] - 8s 329ms/step - loss: 0.2306 - accuracy: 0.9186\n",
            "Epoch 8/10\n",
            "25/25 [==============================] - 8s 324ms/step - loss: 0.2123 - accuracy: 0.9279\n",
            "Epoch 9/10\n",
            "25/25 [==============================] - 8s 321ms/step - loss: 0.2000 - accuracy: 0.9354\n",
            "Epoch 10/10\n",
            "25/25 [==============================] - 8s 322ms/step - loss: 0.1927 - accuracy: 0.9408\n"
          ],
          "name": "stdout"
        },
        {
          "output_type": "execute_result",
          "data": {
            "text/plain": [
              "<tensorflow.python.keras.callbacks.History at 0x7f25f9699630>"
            ]
          },
          "metadata": {
            "tags": []
          },
          "execution_count": 10
        }
      ]
    },
    {
      "cell_type": "code",
      "metadata": {
        "colab": {
          "base_uri": "https://localhost:8080/"
        },
        "id": "HvfK_J2K9we1",
        "outputId": "8f844da1-d6c4-4b65-dfd0-2013db5ba598"
      },
      "source": [
        "model.evaluate(x_test, y_test)"
      ],
      "execution_count": 11,
      "outputs": [
        {
          "output_type": "stream",
          "text": [
            "782/782 [==============================] - 9s 10ms/step - loss: 0.3906 - accuracy: 0.8452\n"
          ],
          "name": "stdout"
        },
        {
          "output_type": "execute_result",
          "data": {
            "text/plain": [
              "[0.3906114399433136, 0.8451600074768066]"
            ]
          },
          "metadata": {
            "tags": []
          },
          "execution_count": 11
        }
      ]
    }
  ]
}